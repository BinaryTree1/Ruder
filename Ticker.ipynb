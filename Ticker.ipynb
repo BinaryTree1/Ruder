{
 "cells": [
  {
   "cell_type": "code",
   "execution_count": 1,
   "metadata": {},
   "outputs": [],
   "source": [
    "import pandas as pd\n",
    "import numpy as np\n",
    "import dask.dataframe as dd\n",
    "import os\n",
    "from copy import copy\n",
    "import missingno as ms\n",
    "#from dask.diagnostics import ProgressBar\n",
    "#pbar = ProgressBar()\n",
    "#pbar.register()\n",
    "pd.options.display.float_format = '{:.4f}'.format"
   ]
  },
  {
   "cell_type": "code",
   "execution_count": 13,
   "metadata": {},
   "outputs": [],
   "source": [
    "# Funckija pretvorbe ticker podataka u minutne podatke\n",
    "def ticker_to_time(name):\n",
    "    # Loada dataset pomocu daska posto su neki preveliki da bi stali u memoriju\n",
    "    df = dd.read_csv('/home/filip/Desktop/Ruđer/Data/'+name+\".csv\",header=None,dtype={0: int,1: float,2: float})\n",
    "    print(\"Loaded\")\n",
    "    # Pretvaranje UNIX timestampa u Datetime format i uklanjanje sekunda kako bi se\n",
    "    # moglo grupirati timestampove po minutama\n",
    "    # Uzete su vrijednosti starije od 2014 godine radio pouzdanosti podataka pošto u tom periodu \n",
    "    # postoje podaci s više exchangeva \n",
    "    df['Timestamp'] = df[0].astype('M8[s]')\n",
    "    df.set_index('Timestamp')\n",
    "    df['Timestamp'] = df['Timestamp'].dt.floor(\"min\")\n",
    "    df = df.loc[df[\"Timestamp\"]>\"2014-01-01 01:00:00\"]\n",
    "    print(\"Timestamp\")\n",
    "    # Agregiranje podataka \n",
    "    df = df.groupby(\"Timestamp\").agg({1: ['mean',\"first\",\"last\", 'std','count','min',\"max\"],2:[\"sum\"]})\n",
    "    print(\"Aggregated\")\n",
    "    # Pretvorba dask dataframea u pandas dataframe\n",
    "    df = df.compute()\n",
    "    print(\"Computed\")\n",
    "    # Klasične vrijednosti koje se računaju za vrijednost nekog asseta\n",
    "    df[\"High\"] = df[1][\"max\"]\n",
    "    df[\"Low\"] = df[1][\"min\"]\n",
    "    df[\"Trades\"] = df[1][\"count\"]\n",
    "    df[\"Std\"] = df[1][\"std\"]\n",
    "    df[\"Weighted_Price\"] = df[1][\"mean\"]\n",
    "    df[\"Open\"] = df[1][\"first\"]\n",
    "    df[\"Close\"] = df[1][\"last\"]\n",
    "    df[\"Volume\"] = df[2][\"sum\"]\n",
    "\n",
    "    \n",
    "    df.drop(columns=[1,2],inplace=True)\n",
    "    df['Timestamp'] = df.index\n",
    "    return df"
   ]
  },
  {
   "cell_type": "code",
   "execution_count": 9,
   "metadata": {},
   "outputs": [
    {
     "name": "stdout",
     "output_type": "stream",
     "text": [
      "['coincheckJPY', 'bitstampUSD', 'coinbaseUSD', 'btcnCNY']\n",
      "['bitstampUSD', 'coinbaseUSD']\n"
     ]
    }
   ],
   "source": [
    "# Učitavanje imena svih fileova u datoteci\n",
    "exchanges = os.listdir(\"/home/filip/Desktop/Ruđer/Data/\")\n",
    "existing = os.listdir(\"/home/filip/Desktop/Ruđer/MinuteData/\")\n",
    "exchanges = [x.split(\".\")[0] for x in exchanges]\n",
    "exchanges.remove(\"coinbaseEUR\")\n",
    "existing = [x.split(\"_\")[0] for x in existing]\n",
    "print(exchanges)\n",
    "print(existing)"
   ]
  },
  {
   "cell_type": "code",
   "execution_count": 14,
   "metadata": {},
   "outputs": [
    {
     "name": "stdout",
     "output_type": "stream",
     "text": [
      "Loaded\n",
      "Timestamp\n",
      "Aggregated\n",
      "Computed\n",
      "Loaded\n",
      "Timestamp\n",
      "Aggregated\n"
     ]
    },
    {
     "name": "stderr",
     "output_type": "stream",
     "text": [
      "/home/filip/anaconda3/lib/python3.7/site-packages/pandas/core/series.py:853: RuntimeWarning: invalid value encountered in sqrt\n",
      "  result = getattr(ufunc, method)(*inputs, **kwargs)\n"
     ]
    },
    {
     "name": "stdout",
     "output_type": "stream",
     "text": [
      "Computed\n"
     ]
    }
   ],
   "source": [
    "# Pretvorba podataka i spremanje pretvorenih podataka\n",
    "for i in exchanges:\n",
    "    name = i.split(\".\")[0]\n",
    "    if not name in existing:\n",
    "        df = ticker_to_time(name)\n",
    "        df.to_csv(index=False, path_or_buf=\"/home/filip/Desktop/Ruđer/MinuteData/\"+name+\"_1-min_data.csv\")"
   ]
  },
  {
   "cell_type": "code",
   "execution_count": null,
   "metadata": {},
   "outputs": [],
   "source": [
    "dolars = 0\n",
    "volume = 0\n",
    "time = 0\n",
    "ticks = 0\n",
    "maximum = 0\n",
    "minimum = 100000\n",
    "openn = 0\n",
    "close = 0\n",
    "price_sum = 0\n",
    "dataframe_list = []\n",
    "df = pd.DataFrame(columns=[\"Timestamp\",\"Dolars\",\"Volume\",\"Ticks\",\"Time\",\"Max\",\"Min\",\"Open\",\"Close\",\"Sum\"])\n",
    "def dolar_bar(x):\n",
    "    global dolars,volume,time,ticks,maximum,minimum,openn,close,dataframe_list,price_sum\n",
    "    if dolars == 0:\n",
    "        time = x[0]\n",
    "        openn = x[1]\n",
    "    dolars += x[1]*x[2]\n",
    "    price_sum += x[1]\n",
    "    volume += x[2]\n",
    "    ticks += 1\n",
    "    if x[1]>maximum:\n",
    "        maximum = x[1]\n",
    "    if x[1]<minimum:\n",
    "        minimum = x[1]\n",
    "    if dolars > 250000:\n",
    "        dictionary = {\n",
    "            \"Timestamp\":x[0],\n",
    "            \"Dolars\":dolars,\n",
    "            \"Volume\":volume,\n",
    "            \"Ticks\":ticks,\n",
    "            \"Time\":x[0]-time,\n",
    "            \"Max\":maximum,\n",
    "            \"Min\":minimum,\n",
    "            \"Open\":openn,\n",
    "            \"Close\": x[1],\n",
    "            \"Sum\":price_sum\n",
    "        }\n",
    "        dataframe_list.append(dictionary)\n",
    "        print(dictionary)\n",
    "        dolars = 0\n",
    "        volume = 0\n",
    "        time = 0\n",
    "        ticks = 0\n",
    "        price_sum = 0\n",
    "        maximum = 0\n",
    "        minimum = 100000\n",
    "        openn = 0\n",
    "        close = 0\n",
    "\n",
    "def dolar_df(name):\n",
    "    global dataframe_list\n",
    "    df = pd.read_csv('/home/filip/Desktop/Ruđer/Data/'+name,header=None,dtype={0: int,1: float,2: float})\n",
    "    df['Timestamp'] = df[0].astype('M8[s]')\n",
    "    df = df.set_index('Timestamp')\n",
    "    df.apply(dolar_bar,axis=1)\n",
    "    df = pd.DataFrame(dataframe_list)\n",
    "    df['Timestamp'] = df[\"Timestamp\"].astype('M8[s]')\n",
    "    df[\"Price\"] = df[\"Sum\"] / df[\"Ticks\"]\n",
    "    return df"
   ]
  },
  {
   "cell_type": "code",
   "execution_count": null,
   "metadata": {},
   "outputs": [],
   "source": [
    "# Učitavanje imena svih fileova u datoteci\n",
    "exchanges = os.listdir(\"/home/filip/Desktop/Ruđer/Data/\")\n",
    "# Pretvorba podataka i spremanje pretvorenih podataka\n",
    "for name in exchanges:\n",
    "    print(name)\n",
    "    df = dolar_df(name)\n",
    "    df.to_csv(index=False, path_or_buf=\"/home/filip/Desktop/Ruđer/DolarData/\"+name+\"_dolar_data.csv\")\n",
    "    df.describe()"
   ]
  }
 ],
 "metadata": {
  "kernelspec": {
   "display_name": "Python 3",
   "language": "python",
   "name": "python3"
  },
  "language_info": {
   "codemirror_mode": {
    "name": "ipython",
    "version": 3
   },
   "file_extension": ".py",
   "mimetype": "text/x-python",
   "name": "python",
   "nbconvert_exporter": "python",
   "pygments_lexer": "ipython3",
   "version": "3.7.1"
  }
 },
 "nbformat": 4,
 "nbformat_minor": 2
}
