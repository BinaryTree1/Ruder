{
 "cells": [
  {
   "cell_type": "code",
   "execution_count": 1,
   "metadata": {},
   "outputs": [],
   "source": [
    "import pandas as pd\n",
    "import numpy as np\n",
    "import pywt\n",
    "pd.options.display.float_format = '{:.2f}'.format\n",
    "\n",
    "import seaborn as sns\n",
    "import matplotlib.pyplot as plt\n",
    "import plotly.express as px\n",
    "import missingno as msno\n",
    "plt.rc(\"figure\", figsize=(18,5))\n",
    "\n",
    "import warnings\n",
    "warnings.filterwarnings('ignore')"
   ]
  },
  {
   "cell_type": "code",
   "execution_count": 2,
   "metadata": {},
   "outputs": [],
   "source": [
    "def load_df(name):\n",
    "    time = pd.DataFrame(pd.date_range(start =\"2014-01-01 01:00:00\", end =\"2019-08-12 12:47:00\", freq='T'))\n",
    "    time.columns = [\"Timestamp\"]\n",
    "    df = pd.read_csv('/home/filip/Desktop/Ruđer/MinuteData/'+name+'_1-min_data.csv')\n",
    "    df[\"Timestamp\"] = df[\"Timestamp\"].astype('M8[s]')\n",
    "    df = df.loc[df[\"Timestamp\"]>\"2014-01-01 01:00:00\"]\n",
    "    df = pd.merge(time, df, left_on='Timestamp', right_on='Timestamp', how='left')\n",
    "    return df\n",
    "\n",
    "def append_suffix(df):\n",
    "    cols = []\n",
    "    for col in df.columns:\n",
    "        if str(col)!=\"Timestamp\":\n",
    "            cols.append(str(col)+\"_\"+name)\n",
    "        else:\n",
    "            cols.append(\"Timestamp\")\n",
    "    df.columns = cols\n",
    "    return df\n",
    "\n",
    "# Plota broj missing i existing podataka \n",
    "def plot_missing(df, column):\n",
    "    missing = df.loc[df[column].isnull()]\n",
    "    missing[\"Counter\"] = 1\n",
    "    vals = missing.set_index(\"Timestamp\").groupby(pd.Grouper(freq='M')).count()[\"Counter\"]\n",
    "    try:\n",
    "        vals.plot(x=\"Timestamp\",y=\"Counter\")\n",
    "    except:\n",
    "        pass\n",
    "    found = df.loc[~df[column].isnull()]\n",
    "    found[\"Counter\"] = 1\n",
    "    vals = found.set_index(\"Timestamp\").groupby(pd.Grouper(freq='M')).count()[\"Counter\"]\n",
    "    vals.plot(x=\"Timestamp\",y=\"Counter\")\n",
    "    plt.show()\n",
    "    \n",
    "# Funkcija wavelet transformacije\n",
    "def lowpassfilter(signal, thresh = 0.01, wavelet='haar', level = 1):\n",
    "    coeff = pywt.wavedec(signal, wavelet, mode=\"per\",level=level)\n",
    "    thresh = thresh*np.nanmax(coeff[1])\n",
    "    coeff[1:] = (pywt.threshold(i, value=thresh, mode=\"soft\" ) for i in coeff[1:])\n",
    "    reconstructed_signal = pywt.waverec(coeff, wavelet, mode=\"per\")\n",
    "    return pd.DataFrame(reconstructed_signal)\n",
    "    \n",
    "# Kreiranje dodatnih feature-a\n",
    "def create_column_features(df, column, thresh):\n",
    "    df[\"Denoised_Price_1_\"+column] = lowpassfilter(df[column],thresh)\n",
    "    df[\"Denoised_Price_2_\"+column] = lowpassfilter(df[column],level =2,thresh = thresh)\n",
    "    df[\"Price_Change_\"+column] = df[column].pct_change()\n",
    "    df.loc[df[\"Price_Change_\"+column]>10,\"Price_Change_\"+column]= 0\n",
    "    df[\"Denoised_Price_Change_\"+column] = df[\"Denoised_Price_1_\"+column].pct_change()\n",
    "    df.loc[df[\"Denoised_Price_Change_\"+column]>10,\"Denoised_Price_Change_\"+column]= 0\n",
    "    df.plot(x=\"Timestamp\",y=[column,\"Denoised_Price_1_\"+column,\"Denoised_Price_2_\"+column],figsize=(20,5))\n",
    "    plt.show()\n",
    "    df.plot(x=\"Timestamp\",y=[\"Price_Change_\"+column,\"Denoised_Price_Change_\"+column],figsize=(20,5))\n",
    "    plt.show()\n",
    "    return df\n",
    "\n",
    "# Popunjava missing vrijednosti\n",
    "def fill_missing(df,ls):\n",
    "    print(\"Before:\")\n",
    "    print(df.isnull().sum())\n",
    "    for i in range(len(df.columns)):\n",
    "        col = df.columns[i]\n",
    "        if i in ls:\n",
    "            df[col] = df[col].fillna(0)\n",
    "        else:\n",
    "            df[col] = df[col].interpolate()\n",
    "    print(\"\\nAfter:\")\n",
    "    print(df.isnull().sum())\n",
    "    plot_missing(coinbase,\"Weighted_Price\")\n",
    "    df = df.dropna()\n",
    "    df.head()\n",
    "    return df"
   ]
  },
  {
   "cell_type": "code",
   "execution_count": null,
   "metadata": {},
   "outputs": [],
   "source": [
    "coinbase = load_df(\"coinbaseUSD.csv\")\n",
    "coinbase[\"Timestamp\"] = pd.to_datetime(coinbase[\"Timestamp\"], errors='coerce')\n",
    "plot_missing(coinbase,\"Weighted_Price\")\n",
    "plt.show()\n",
    "coinbase.plot(x=\"Timestamp\",y=\"Weighted_Price\")\n",
    "plt.show()\n",
    "print(coinbase.columns)"
   ]
  },
  {
   "cell_type": "code",
   "execution_count": null,
   "metadata": {},
   "outputs": [],
   "source": [
    "coinbase = fill_missing(coinbase,[3,4,8]).reset_index(drop=True)"
   ]
  },
  {
   "cell_type": "code",
   "execution_count": null,
   "metadata": {},
   "outputs": [],
   "source": [
    "coinbase[\"Dolars\"] = (coinbase[\"Volume\"]*coinbase[\"Close\"])\n",
    "coinbase.plot(x=\"Timestamp\",y=[\"Dolars\"])\n",
    "plt.show()\n",
    "coinbase.plot(x=\"Timestamp\",y=[\"Volume\"])"
   ]
  },
  {
   "cell_type": "code",
   "execution_count": null,
   "metadata": {
    "scrolled": false
   },
   "outputs": [],
   "source": [
    "coinbase = create_column_features(coinbase, \"Weighted_Price\",0.05)\n",
    "coinbase = create_column_features(coinbase, \"Open\",0.05)\n",
    "coinbase = create_column_features(coinbase, \"Close\",0.05)\n",
    "coinbase = create_column_features(coinbase, \"Dolars\",0.05)\n",
    "coinbase.head()"
   ]
  },
  {
   "cell_type": "code",
   "execution_count": null,
   "metadata": {},
   "outputs": [],
   "source": [
    "fig = px.line(coinbase.loc[(coinbase[\"Timestamp\"]>\"2018-08-08 02:00:00\")&(coinbase[\"Timestamp\"]<\"2019-01-01 02:00:00\")], x='Timestamp', y='Denoised_Price_1_Weighted_Price')\n",
    "fig.show()"
   ]
  },
  {
   "cell_type": "code",
   "execution_count": null,
   "metadata": {},
   "outputs": [],
   "source": [
    "fig = px.line(coinbase.loc[(coinbase[\"Timestamp\"]>\"2018-08-08 02:00:00\")&(coinbase[\"Timestamp\"]<\"2019-01-01 02:00:00\")], x='Timestamp', y='Denoised_Price_Change_Weighted_Price')\n",
    "fig.show()"
   ]
  },
  {
   "cell_type": "code",
   "execution_count": null,
   "metadata": {},
   "outputs": [],
   "source": [
    "sns.distplot(coinbase.loc[(coinbase[\"Volume\"]<100)&(coinbase[\"Volume\"]>0)][\"Volume\"])"
   ]
  },
  {
   "cell_type": "code",
   "execution_count": null,
   "metadata": {
    "scrolled": false
   },
   "outputs": [],
   "source": [
    "bitstamp = load_df(\"bitstampUSD.csv\")\n",
    "bitstamp[\"Timestamp\"] = pd.to_datetime(bitstamp[\"Timestamp\"], errors='coerce')\n",
    "plot_missing(bitstamp,\"Weighted_Price\")\n",
    "plt.show()\n",
    "bitstamp.plot(x=\"Timestamp\",y=\"Weighted_Price\")\n",
    "plt.show()\n",
    "print(bitstamp.columns)"
   ]
  },
  {
   "cell_type": "code",
   "execution_count": null,
   "metadata": {},
   "outputs": [],
   "source": [
    "bitstamp = fill_missing(bitstamp,[3,4,8]).reset_index(drop=True)"
   ]
  },
  {
   "cell_type": "code",
   "execution_count": null,
   "metadata": {},
   "outputs": [],
   "source": [
    "bitstamp[\"Dolars\"] = (bitstamp[\"Volume\"]*bitstamp[\"Close\"])\n",
    "bitstamp.plot(x=\"Timestamp\",y=[\"Dolars\"])\n",
    "plt.show()\n",
    "bitstamp.plot(x=\"Timestamp\",y=[\"Volume\"])"
   ]
  },
  {
   "cell_type": "code",
   "execution_count": null,
   "metadata": {
    "scrolled": false
   },
   "outputs": [],
   "source": [
    "bitstamp = create_column_features(bitstamp, \"Weighted_Price\",0.05)\n",
    "bitstamp = create_column_features(bitstamp, \"Close\",0.05)\n",
    "bitstamp = create_column_features(bitstamp, \"Open\",0.05)\n",
    "bitstamp = create_column_features(bitstamp, \"Dolars\",0.05)\n",
    "bitstamp.head()"
   ]
  },
  {
   "cell_type": "code",
   "execution_count": null,
   "metadata": {},
   "outputs": [],
   "source": [
    "fig = px.line(bitstamp.loc[(bitstamp[\"Timestamp\"]>\"2018-08-08 02:00:00\")&(bitstamp[\"Timestamp\"]<\"2019-01-01 02:00:00\")], x='Timestamp', y='Denoised_Price_1_Weighted_Price')\n",
    "fig.show()"
   ]
  },
  {
   "cell_type": "code",
   "execution_count": null,
   "metadata": {},
   "outputs": [],
   "source": [
    "fig = px.line(bitstamp.loc[(bitstamp[\"Timestamp\"]>\"2018-08-08 02:00:00\")&(bitstamp[\"Timestamp\"]<\"2019-01-01 02:00:00\")], x='Timestamp', y='Denoised_Price_Change_Weighted_Price')\n",
    "fig.show()"
   ]
  },
  {
   "cell_type": "code",
   "execution_count": null,
   "metadata": {},
   "outputs": [],
   "source": [
    "sns.distplot(bitstamp.loc[(bitstamp[\"Volume\"]<100)&(bitstamp[\"Volume\"]>0)][\"Volume\"])"
   ]
  },
  {
   "cell_type": "code",
   "execution_count": null,
   "metadata": {},
   "outputs": [],
   "source": [
    "kraken = load_df(\"krakenUSD.csv\")\n",
    "kraken[\"Timestamp\"] = pd.to_datetime(kraken[\"Timestamp\"], errors='coerce')\n",
    "plot_missing(kraken,\"Weighted_Price\")\n",
    "plt.show()\n",
    "kraken.plot(x=\"Timestamp\",y=\"Weighted_Price\")\n",
    "plt.show()\n",
    "print(kraken.columns)"
   ]
  },
  {
   "cell_type": "code",
   "execution_count": null,
   "metadata": {},
   "outputs": [],
   "source": [
    "combined = pd.DataFrame(pd.date_range(start =\"2014-01-01 02:00:00\", end =\"2019-01-01 12:47:00\", freq='T'))\n",
    "combined.columns = [\"Timestamp\"]\n",
    "combined = pd.merge(combined, coinbase, left_on='Timestamp', right_on='Timestamp', how='left')\n",
    "combined = pd.merge(combined, bitstamp, left_on='Timestamp', right_on='Timestamp', how='left')\n",
    "print(combined.columns)\n",
    "combined.tail()"
   ]
  },
  {
   "cell_type": "code",
   "execution_count": null,
   "metadata": {},
   "outputs": [],
   "source": [
    "combined.to_pickle(\"/home/filip/Desktop/Ruđer/FinalData/general.pkl\")"
   ]
  },
  {
   "cell_type": "code",
   "execution_count": null,
   "metadata": {},
   "outputs": [],
   "source": []
  },
  {
   "cell_type": "code",
   "execution_count": null,
   "metadata": {},
   "outputs": [],
   "source": []
  },
  {
   "cell_type": "code",
   "execution_count": null,
   "metadata": {},
   "outputs": [],
   "source": []
  }
 ],
 "metadata": {
  "kernelspec": {
   "display_name": "Python 3",
   "language": "python",
   "name": "python3"
  },
  "language_info": {
   "codemirror_mode": {
    "name": "ipython",
    "version": 3
   },
   "file_extension": ".py",
   "mimetype": "text/x-python",
   "name": "python",
   "nbconvert_exporter": "python",
   "pygments_lexer": "ipython3",
   "version": "3.7.1"
  }
 },
 "nbformat": 4,
 "nbformat_minor": 2
}
